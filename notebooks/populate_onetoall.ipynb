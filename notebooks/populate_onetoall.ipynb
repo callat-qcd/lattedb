{
 "cells": [
  {
   "cell_type": "code",
   "execution_count": 1,
   "metadata": {
    "collapsed": true
   },
   "outputs": [],
   "source": [
    "from lattedb.quarksmear.models import GaugeCovariantGaussian as quarksmear_GaugeCovariantGaussian\n",
    "from lattedb.fermionaction.models import Hisq as fermionaction_Hisq\n",
    "from lattedb.gaugeaction.models import LuescherWeisz as gaugeaction_LuescherWeisz\n",
    "from lattedb.fermionaction.models import MobiusDW as fermionaction_MobiusDW\n",
    "from lattedb.gaugeconfig.models import Nf211 as gaugeconfig_Nf211\n",
    "from lattedb.quarksmear.models import Point as quarksmear_Point\n",
    "from lattedb.linksmear.models import Unsmeared as linksmear_Unsmeared\n",
    "from lattedb.linksmear.models import WilsonFlow as linksmear_WilsonFlow\n",
    "from lattedb.propagator.models import OneToAll as propagator_OneToAll"
   ]
  },
  {
   "cell_type": "code",
   "execution_count": 5,
   "metadata": {},
   "outputs": [
    {
     "data": {
      "text/plain": [
       "<DataFrameQuerySet [<Nf211: Nf211[GaugeConfig](tag=l2448f211b580m013m065m838, short_tag=a15m310L, stream=a, config=300, nx=24, ny=24, nz=24, nt=48, mpi=310)>]>"
      ]
     },
     "execution_count": 5,
     "metadata": {},
     "output_type": "execute_result"
    }
   ],
   "source": [
    "gaugeconfigs = gaugeconfig_Nf211.objects.all()\n",
    "gaugeconfigs.filter(short_tag=\"a15m310L\", config=300)"
   ]
  },
  {
   "cell_type": "code",
   "execution_count": null,
   "metadata": {
    "collapsed": true
   },
   "outputs": [],
   "source": [
    "\n",
    "\n",
    "fermionaction_linksmear, created = linksmear_WilsonFlow.objects.get_or_create(\n",
    "\tflowtime=, # Flow time in lattice units\n",
    "\tflowstep=, # Number of diffusion steps\n",
    "\ttag=, # (Optional) User defined tag for easy searches\n",
    ")\n",
    "\n",
    "fermionaction, created = fermionaction_MobiusDW.objects.get_or_create(\n",
    "\tquark_mass=, # Input quark mass\n",
    "\tquark_tag=, # Type of quark\n",
    "\tl5=, # Length of 5th dimension\n",
    "\tm5=, # 5th dimensional mass\n",
    "\tb5=, # Mobius kernel parameter [a5 = b5 - c5, alpha5 * a5 =…\n",
    "\tc5=, # Mobius kernal perameter\n",
    "\tlinksmear=fermionaction_linksmear, # Foreign Key pointing to additional gauge `linksmear` outside of Monte Carlo.\n",
    "\ttag=, # (Optional) User defined tag for easy searches\n",
    ")\n",
    "\n",
    "sourcesmear, created = quarksmear_GaugeCovariantGaussian.objects.get_or_create(\n",
    "\tradius=, # Smearing radius in lattice units\n",
    "\tstep=, # Number of smearing steps\n",
    "\ttag=, # (Optional) User defined tag for easy searches\n",
    "\tdescription=, # (Optional) Description of the quark smearing operator\n",
    ")\n",
    "\n",
    "sinksmear, created = quarksmear_Point.objects.get_or_create(\n",
    "\ttag=, # (Optional) User defined tag for easy searches\n",
    "\tdescription=, # (Optional) Description of the quark smearing operator\n",
    ")\n",
    "\n",
    "propagator_onetoall, created = propagator_OneToAll.objects.get_or_create(\n",
    "\tgaugeconfig=gaugeconfig, # Foreign Key pointing to specific \\texttt{gaugeconfig} inverted on\n",
    "\tfermionaction=fermionaction, # Foreign Key pointing to valence lattice `fermionaction`. This is the valence action.\n",
    "\torigin_x=, # x-coordinate origin location of the propagator\n",
    "\torigin_y=, # y-coordinate origin location of the propagator\n",
    "\torigin_z=, # z-coordinate origin location of the propagator\n",
    "\torigin_t=, # t-coordinate origin location of the propagator\n",
    "\tsourcesmear=sourcesmear, # Foreign Key pointing to source `quarksmear`\n",
    "\tsinksmear=sinksmear, # Foreign Key pointing to sink `quarksmear`\n",
    "\ttag=, # (Optional) User defined tag for easy searches\n",
    ")"
   ]
  }
 ],
 "metadata": {
  "kernelspec": {
   "display_name": "lattedb",
   "language": "python",
   "name": "lattedb"
  },
  "language_info": {
   "codemirror_mode": {
    "name": "ipython",
    "version": 3
   },
   "file_extension": ".py",
   "mimetype": "text/x-python",
   "name": "python",
   "nbconvert_exporter": "python",
   "pygments_lexer": "ipython3",
   "version": "3.7.3"
  }
 },
 "nbformat": 4,
 "nbformat_minor": 2
}
