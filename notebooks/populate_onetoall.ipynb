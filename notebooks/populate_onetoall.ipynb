{
 "cells": [
  {
   "cell_type": "code",
   "execution_count": 68,
   "metadata": {
    "collapsed": true
   },
   "outputs": [],
   "source": [
    "from lattedb.quarksmear.models import GaugeCovariantGaussian as quarksmear_GaugeCovariantGaussian\n",
    "from lattedb.fermionaction.models import Hisq as fermionaction_Hisq\n",
    "from lattedb.gaugeaction.models import LuescherWeisz as gaugeaction_LuescherWeisz\n",
    "from lattedb.fermionaction.models import MobiusDW as fermionaction_MobiusDW\n",
    "from lattedb.gaugeconfig.models import Nf211 as gaugeconfig_Nf211\n",
    "from lattedb.quarksmear.models import Point as quarksmear_Point\n",
    "from lattedb.linksmear.models import Unsmeared as linksmear_Unsmeared\n",
    "from lattedb.linksmear.models import WilsonFlow as linksmear_WilsonFlow\n",
    "from lattedb.propagator.models import OneToAll as propagator_OneToAll"
   ]
  },
  {
   "cell_type": "code",
   "execution_count": 69,
   "metadata": {
    "collapsed": true
   },
   "outputs": [],
   "source": [
    "import sys\n",
    "sys.path.append('../../nucleon_elastic_FF/scripts/area51_files')\n",
    "sys.path.append('../../nucleon_elastic_FF/scripts')\n",
    "import sources\n",
    "import utils"
   ]
  },
  {
   "cell_type": "code",
   "execution_count": 70,
   "metadata": {
    "collapsed": true
   },
   "outputs": [],
   "source": [
    "import a09m310 as a51\n",
    "p = a51.mpirun_params(\"summit\")\n",
    "p[\"STREAM\"] = \"e\""
   ]
  },
  {
   "cell_type": "code",
   "execution_count": 71,
   "metadata": {
    "collapsed": true
   },
   "outputs": [],
   "source": [
    "cfgs_run, p['srcs'] = utils.parse_cfg_src_argument([p[\"cfg_i\"], p[\"cfg_f\"], p[\"cfg_d\"]],'',p)"
   ]
  },
  {
   "cell_type": "code",
   "execution_count": 72,
   "metadata": {
    "collapsed": true
   },
   "outputs": [],
   "source": [
    "gaugeconfigs = gaugeconfig_Nf211.objects.filter(short_tag=p[\"ENS_ABBR\"])"
   ]
  },
  {
   "cell_type": "code",
   "execution_count": 73,
   "metadata": {},
   "outputs": [
    {
     "name": "stdout",
     "output_type": "stream",
     "text": [
      "False\n",
      "False\n",
      "False\n"
     ]
    }
   ],
   "source": [
    "linksmear_tag = f\"wflow{p['FLOW_TIME']}_n{p['FLOW_STEP']}\"\n",
    "fermionaction_linksmear, created = linksmear_WilsonFlow.objects.get_or_create(\n",
    "\tflowtime=p[\"FLOW_TIME\"], # Flow time in lattice units\n",
    "\tflowstep=p[\"FLOW_STEP\"], # Number of diffusion steps\n",
    "\ttag=linksmear_tag, # (Optional) User defined tag for easy searches\n",
    ")\n",
    "print(created)\n",
    "\n",
    "smear_tag = f\"wv_w{p['WF_S']}_n{p['WF_N']}\"\n",
    "gaussian, created = quarksmear_GaugeCovariantGaussian.objects.get_or_create(\n",
    "\tradius=p[\"WF_S\"], # Smearing radius in lattice units\n",
    "\tstep=p[\"WF_N\"], # Number of smearing steps\n",
    "\ttag= smear_tag, # (Optional) User defined tag for easy searches\n",
    "\tdescription=\"Gaussian smearing.\", # (Optional) Description of the quark smearing operator\n",
    ")\n",
    "print(created)\n",
    "\n",
    "point, created = quarksmear_Point.objects.get_or_create(\n",
    "\ttag=\"\", # (Optional) User defined tag for easy searches\n",
    "\tdescription=\"Dirac delta function.\", # (Optional) Description of the quark smearing operator\n",
    ")\n",
    "print(created)\n",
    "smearings = [('SS', gaussian), ('PS', point)]"
   ]
  },
  {
   "cell_type": "code",
   "execution_count": 1,
   "metadata": {},
   "outputs": [
    {
     "ename": "NameError",
     "evalue": "name 'p' is not defined",
     "output_type": "error",
     "traceback": [
      "\u001b[0;31m---------------------------------------------------------------------------\u001b[0m",
      "\u001b[0;31mNameError\u001b[0m                                 Traceback (most recent call last)",
      "\u001b[0;32m<ipython-input-1-0845f13559b9>\u001b[0m in \u001b[0;36m<module>\u001b[0;34m\u001b[0m\n\u001b[0;32m----> 1\u001b[0;31m \u001b[0mquark_list\u001b[0m \u001b[0;34m=\u001b[0m \u001b[0;34m[\u001b[0m\u001b[0;34m(\u001b[0m\u001b[0;34m\"light\"\u001b[0m\u001b[0;34m,\u001b[0m \u001b[0mp\u001b[0m\u001b[0;34m[\u001b[0m\u001b[0;34m\"MV_L\"\u001b[0m\u001b[0;34m]\u001b[0m\u001b[0;34m)\u001b[0m\u001b[0;34m,\u001b[0m \u001b[0;34m(\u001b[0m\u001b[0;34m\"strange\"\u001b[0m\u001b[0;34m,\u001b[0m \u001b[0mp\u001b[0m\u001b[0;34m[\u001b[0m\u001b[0;34m\"MV_S\"\u001b[0m\u001b[0;34m]\u001b[0m\u001b[0;34m)\u001b[0m\u001b[0;34m]\u001b[0m\u001b[0;34m\u001b[0m\u001b[0;34m\u001b[0m\u001b[0m\n\u001b[0m\u001b[1;32m      2\u001b[0m \u001b[0;32mfor\u001b[0m \u001b[0mquark\u001b[0m \u001b[0;32min\u001b[0m \u001b[0mquark_list\u001b[0m\u001b[0;34m:\u001b[0m\u001b[0;34m\u001b[0m\u001b[0;34m\u001b[0m\u001b[0m\n\u001b[1;32m      3\u001b[0m     \u001b[0mfermion_tag\u001b[0m \u001b[0;34m=\u001b[0m \u001b[0;34mf\"M5{p['M5']}_L5{p['L5']}_a{p['alpha5']}\"\u001b[0m\u001b[0;34m\u001b[0m\u001b[0;34m\u001b[0m\u001b[0m\n\u001b[1;32m      4\u001b[0m     fermionaction, created = fermionaction_MobiusDW.objects.get_or_create(\n\u001b[1;32m      5\u001b[0m         \u001b[0mquark_mass\u001b[0m\u001b[0;34m=\u001b[0m\u001b[0mquark\u001b[0m\u001b[0;34m[\u001b[0m\u001b[0;36m1\u001b[0m\u001b[0;34m]\u001b[0m\u001b[0;34m,\u001b[0m \u001b[0;31m# Input quark mass\u001b[0m\u001b[0;34m\u001b[0m\u001b[0;34m\u001b[0m\u001b[0m\n",
      "\u001b[0;31mNameError\u001b[0m: name 'p' is not defined"
     ]
    }
   ],
   "source": [
    "quark_list = [(\"light\", p[\"MV_L\"]), (\"strange\", p[\"MV_S\"])]\n",
    "for quark in quark_list:\n",
    "    fermion_tag = f\"M5{p['M5']}_L5{p['L5']}_a{p['alpha5']}\"\n",
    "    fermionaction, created = fermionaction_MobiusDW.objects.get_or_create(\n",
    "        quark_mass=quark[1], # Input quark mass\n",
    "        quark_tag=quark[0], # Type of quark\n",
    "        l5=p[\"L5\"], # Length of 5th dimension\n",
    "        m5=p[\"M5\"], # 5th dimensional mass\n",
    "        b5=p[\"B5\"], # Mobius kernel parameter [a5 = b5 - c5, alpha5 * a5 =…\n",
    "        c5=p[\"C5\"], # Mobius kernal perameter\n",
    "        linksmear=fermionaction_linksmear, # Foreign Key pointing to additional gauge `linksmear` outside of Monte Carlo.\n",
    "        tag=fermion_tag, # (Optional) User defined tag for easy searches\n",
    "    )\n",
    "    print(\"fermionaction:\", created)\n",
    "    for smearing in smearings:\n",
    "        for gaugeconfig in gaugeconfigs:\n",
    "            for source in p['srcs'][gaugeconfig.config]:\n",
    "                xyzt = sources.xyzt(source)\n",
    "                prop_tag = f\"prop_{smearing[0]}_mq{quark[1]}_{linksmear_tag}_{fermion_tag}_cfg_{gaugeconfig.config}_src{source}_{smear_tag}\"\n",
    "                propagator_onetoall, created = propagator_OneToAll.objects.update_or_create(\n",
    "                    gaugeconfig=gaugeconfig, # Foreign Key pointing to specific \\texttt{gaugeconfig} inverted on\n",
    "                    fermionaction=fermionaction, # Foreign Key pointing to valence lattice `fermionaction`. This is the valence action.\n",
    "                    origin_x=int(xyzt[0]), # x-coordinate origin location of the propagator\n",
    "                    origin_y=int(xyzt[1]), # y-coordinate origin location of the propagator\n",
    "                    origin_z=int(xyzt[2]), # z-coordinate origin location of the propagator\n",
    "                    origin_t=int(xyzt[3]), # t-coordinate origin location of the propagator\n",
    "                    sourcesmear=gaussian, # Foreign Key pointing to source `quarksmear`\n",
    "                    sinksmear=smearing[1], # Foreign Key pointing to sink `quarksmear`\n",
    "                    tag=prop_tag, # (Optional) User defined tag for easy searches\n",
    "                )\n",
    "                print(f\"\\r>>{created} {prop_tag}\", end=\"\")"
   ]
  },
  {
   "cell_type": "code",
   "execution_count": null,
   "metadata": {
    "collapsed": true
   },
   "outputs": [],
   "source": []
  }
 ],
 "metadata": {
  "kernelspec": {
   "display_name": "lattedb",
   "language": "python",
   "name": "lattedb"
  },
  "language_info": {
   "codemirror_mode": {
    "name": "ipython",
    "version": 3
   },
   "file_extension": ".py",
   "mimetype": "text/x-python",
   "name": "python",
   "nbconvert_exporter": "python",
   "pygments_lexer": "ipython3",
   "version": "3.7.3"
  }
 },
 "nbformat": 4,
 "nbformat_minor": 2
}
