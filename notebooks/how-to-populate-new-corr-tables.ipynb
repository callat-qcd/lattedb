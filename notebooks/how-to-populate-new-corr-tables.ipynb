{
 "cells": [
  {
   "cell_type": "markdown",
   "metadata": {},
   "source": [
    "# This notebook displays how to create and query correlator data"
   ]
  },
  {
   "cell_type": "markdown",
   "metadata": {},
   "source": [
    "## Import"
   ]
  },
  {
   "cell_type": "code",
   "execution_count": null,
   "metadata": {},
   "outputs": [],
   "source": [
    "from typing import Union\n",
    "\n",
    "import datetime\n",
    "import pytz\n",
    "\n",
    "from django.db import IntegrityError\n",
    "\n",
    "from lattedb.project.formfac.models.data.correlator import (\n",
    "    CorrelatorMeta,\n",
    "    DiskCorrelatorH5Dset,\n",
    "    TapeCorrelatorH5Dset,\n",
    ")"
   ]
  },
  {
   "cell_type": "markdown",
   "metadata": {},
   "source": [
    "Set a timezone for creating timezone aware objects"
   ]
  },
  {
   "cell_type": "markdown",
   "metadata": {},
   "source": [
    "## Create a time for the given timezone"
   ]
  },
  {
   "cell_type": "code",
   "execution_count": null,
   "metadata": {},
   "outputs": [],
   "source": [
    "us_timezones = sorted([timezone for timezone in pytz.all_timezones if \"US\" in timezone])\n",
    "print([timezone.split(\"/\")[-1] for timezone in us_timezones])\n",
    "\n",
    "timezone = pytz.timezone(\"US/Michigan\")\n",
    "\n",
    "time = datetime.datetime(2020, 3, 11, 23, 59, 59, 1234, timezone)\n",
    "time"
   ]
  },
  {
   "cell_type": "markdown",
   "metadata": {},
   "source": [
    "## How to create a Disk or Tape entry for correlators"
   ]
  },
  {
   "cell_type": "markdown",
   "metadata": {},
   "source": [
    "First create a meta object (this is the object which will eventually replaced by the actual meta tables)"
   ]
  },
  {
   "cell_type": "code",
   "execution_count": null,
   "metadata": {},
   "outputs": [],
   "source": [
    "meta_infos = {\"corr\": \"phi_qq\", \"configuration\": 200, \"source\": \"x22y21z20t19\"}\n",
    "corr_meta, created = CorrelatorMeta.objects.get_or_create(**meta_infos)\n",
    "corr_meta"
   ]
  },
  {
   "cell_type": "markdown",
   "metadata": {},
   "source": [
    "Next create a disk or Disk entry"
   ]
  },
  {
   "cell_type": "code",
   "execution_count": null,
   "metadata": {},
   "outputs": [],
   "source": [
    "disk_infos = {\n",
    "    \"name\": \"corr.h5\",\n",
    "    \"path\": \"/summit/path/to/file/\",\n",
    "    \"dset\": \"phi_qq/cfg_199/src_x22y21z20t19/array\",\n",
    "    \"exists\": True,\n",
    "    \"machine\": \"Summit\",\n",
    "    \"date_modified\": time,\n",
    "    \"meta\": corr_meta,\n",
    "}\n",
    "disk_meta, created = DiskCorrelatorH5Dset.objects.get_or_create(**disk_infos)\n",
    "disk_meta"
   ]
  },
  {
   "cell_type": "markdown",
   "metadata": {},
   "source": [
    "Tape creation works the same way with the difference that you should use `TapeCorrelatorH5Dset` instead of `DiskCorrelatorH5Dset`"
   ]
  },
  {
   "cell_type": "markdown",
   "metadata": {},
   "source": [
    "## Bulk push disk"
   ]
  },
  {
   "cell_type": "code",
   "execution_count": null,
   "metadata": {},
   "outputs": [],
   "source": [
    "meta_list = []\n",
    "meta_tmp = meta_infos.copy()\n",
    "\n",
    "for cfg in range(21, 30):\n",
    "    meta_tmp[\"configuration\"] = cfg\n",
    "    # Create python object but do not push to db\n",
    "    meta_list.append(CorrelatorMeta(**meta_tmp))\n",
    "\n",
    "# Push to db\n",
    "## Note: This only works if objects do not exist\n",
    "try:\n",
    "    meta_objs = CorrelatorMeta.objects.bulk_create(meta_list)\n",
    "    print(meta_objs)\n",
    "except IntegrityError:\n",
    "    meta_objs = []\n",
    "    print(\"At least one object already exists in db\")"
   ]
  },
  {
   "cell_type": "code",
   "execution_count": null,
   "metadata": {
    "scrolled": false
   },
   "outputs": [],
   "source": [
    "disk_list = []\n",
    "disk_tmp = disk_infos.copy()\n",
    "    \n",
    "for meta in meta_objs:\n",
    "    disk_tmp[\"dset\"] = f\"phi_qq/cfg_{meta.configuration}/src_x22y21z20t19/array\"\n",
    "    # Pass *existing* python meta object to file info\n",
    "    disk_tmp[\"meta\"] = meta\n",
    "    # Create python file object but do not push to db\n",
    "    disk_list.append(DiskCorrelatorH5Dset(**disk_tmp))\n",
    "    \n",
    "\n",
    "# Push to db\n",
    "## Note: This only works if objects do not exist\n",
    "try:\n",
    "    disk_objs = DiskCorrelatorH5Dset.objects.bulk_create(disk_list)\n",
    "    print(disk_objs)\n",
    "except IntegrityError:\n",
    "    disk_objs = []\n",
    "    print(\"At least one object already exists in db\")"
   ]
  },
  {
   "cell_type": "markdown",
   "metadata": {},
   "source": [
    "## Queries"
   ]
  },
  {
   "cell_type": "markdown",
   "metadata": {},
   "source": [
    "### Find out if file exists somewhere for given meta"
   ]
  },
  {
   "cell_type": "code",
   "execution_count": null,
   "metadata": {},
   "outputs": [],
   "source": [
    "def get_file_location(\n",
    "    corr: str, configuration: int, source: str\n",
    ") -> Union[DiskCorrelatorH5Dset, TapeCorrelatorH5Dset, None]:\n",
    "    \"\"\"Looks up if a given correlator can be found on disk or tape.\n",
    "    \n",
    "    Returns the corresponding object if found, else None.\n",
    "    If both disk and tape object exists, return Disk object first.\n",
    "    \"\"\"\n",
    "    obj = None\n",
    "    meta = CorrelatorMeta.objects.filter(\n",
    "        corr=corr, configuration=configuration, source=source\n",
    "    ).first()\n",
    "\n",
    "    if meta is not None:\n",
    "        if hasattr(corr_meta, \"disk\") and corr_meta.disk.exists:\n",
    "            obj = meta.disk\n",
    "        elif hasattr(corr_meta, \"tape\") and corr_meta.tape.exists:\n",
    "            obj = meta.tape\n",
    "\n",
    "    return obj"
   ]
  },
  {
   "cell_type": "code",
   "execution_count": null,
   "metadata": {},
   "outputs": [],
   "source": [
    "file_obj = get_file_location(**meta_infos)\n",
    "print(file_obj.type)\n",
    "print(file_obj.machine)\n",
    "print(file_obj.file_address)\n",
    "print(file_obj.dset)\n",
    "print()\n",
    "\n",
    "file_obj = get_file_location(\"mres\", 200, \"bla\")\n",
    "print(dset)"
   ]
  },
  {
   "cell_type": "code",
   "execution_count": null,
   "metadata": {},
   "outputs": [],
   "source": []
  }
 ],
 "metadata": {
  "kernelspec": {
   "display_name": "lattedb",
   "language": "python",
   "name": "lattedb"
  },
  "language_info": {
   "codemirror_mode": {
    "name": "ipython",
    "version": 3
   },
   "file_extension": ".py",
   "mimetype": "text/x-python",
   "name": "python",
   "nbconvert_exporter": "python",
   "pygments_lexer": "ipython3",
   "version": "3.7.5"
  }
 },
 "nbformat": 4,
 "nbformat_minor": 2
}
