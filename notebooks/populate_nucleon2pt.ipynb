{
 "cells": [
  {
   "cell_type": "code",
   "execution_count": 16,
   "metadata": {},
   "outputs": [],
   "source": [
    "import sys\n",
    "sys.path.append('../../nucleon_elastic_FF/scripts/area51_files')\n",
    "sys.path.append('../../nucleon_elastic_FF/scripts')\n",
    "import sources\n",
    "import utils\n",
    "from lattedb.correlator.models import Baryon2pt as correlator_Baryon2pt\n",
    "from lattedb.wavefunction.models import Hadron4D as wavefunction_Hadron4D\n",
    "from lattedb.wavefunction.models import Hadron as wavefunction_Hadron\n",
    "from lattedb.propagator.models import OneToAll as propagator_OneToAll\n",
    "from lattedb.status.models.correlator import Baryon2pt as status_Baryon2pt\n",
    "from lattedb.gaugeconfig.models import Nf211 as gaugeconfig_Nf211\n",
    "from lattedb.fermionaction.models import MobiusDW as fermionaction_MobiusDW\n",
    "from lattedb.linksmear.models import WilsonFlow as linksmear_WilsonFlow"
   ]
  },
  {
   "cell_type": "code",
   "execution_count": 48,
   "metadata": {},
   "outputs": [],
   "source": [
    "# change parameters starting here\n",
    "short_tag = \"a09m310\"\n",
    "stream = \"e\"\n",
    "gaugeconfigs = gaugeconfig_Nf211.objects.filter(short_tag=short_tag, stream=stream).order_by('config')\n",
    "import a09m310 as a51"
   ]
  },
  {
   "cell_type": "code",
   "execution_count": 49,
   "metadata": {
    "collapsed": true
   },
   "outputs": [],
   "source": [
    "p = a51.mpirun_params(\"summit\")\n",
    "p[\"STREAM\"] = stream\n",
    "cfgs_run, p['srcs'] = utils.parse_cfg_src_argument([p[\"cfg_i\"], p[\"cfg_f\"], p[\"cfg_d\"]],'',p)"
   ]
  },
  {
   "cell_type": "code",
   "execution_count": 50,
   "metadata": {},
   "outputs": [],
   "source": [
    "linksmear = linksmear_WilsonFlow.objects.get(\n",
    "   \tflowtime=p[\"FLOW_TIME\"], # Flow time in lattice units\n",
    "\tflowstep=p[\"FLOW_STEP\"], # Number of diffusion steps\n",
    ")\n",
    "\n",
    "fermionaction = fermionaction_MobiusDW.objects.get(\n",
    "        quark_mass=p[\"MV_L\"], # Input quark mass\n",
    "        quark_tag=\"light\", # Type of quark\n",
    "        l5=p[\"L5\"], # Length of 5th dimension\n",
    "        m5=p[\"M5\"], # 5th dimensional mass\n",
    "        b5=p[\"B5\"], # Mobius kernel parameter [a5 = b5 - c5, alpha5 * a5 =…\n",
    "        c5=p[\"C5\"], # Mobius kernal perameter\n",
    "        linksmear=linksmear, # Foreign Key pointing to additional gauge `linksmear` outside of Monte Carlo.\n",
    ")"
   ]
  },
  {
   "cell_type": "code",
   "execution_count": 62,
   "metadata": {},
   "outputs": [
    {
     "name": "stdout",
     "output_type": "stream",
     "text": [
      "Hadron[SCSWaveFunction](tag=proton, description=G1 irrep pp spin up proton, irrep=G, embedding=1, parity=1, spin_x2=1, spin_z_x2=1, isospin_x2=1, isospin_z_x2=1)\n",
      "Hadron[SCSWaveFunction](tag=proton, description=G1 irrep np spin up proton, irrep=G, embedding=1, parity=-1, spin_x2=1, spin_z_x2=1, isospin_x2=1, isospin_z_x2=1)\n",
      "Hadron[SCSWaveFunction](tag=proton, description=G1 irrep pp spin dn proton, irrep=G, embedding=1, parity=1, spin_x2=1, spin_z_x2=-1, isospin_x2=1, isospin_z_x2=1)\n",
      "Hadron[SCSWaveFunction](tag=proton, description=G1 irrep np spin dn proton, irrep=G, embedding=1, parity=-1, spin_x2=1, spin_z_x2=-1, isospin_x2=1, isospin_z_x2=1)\n"
     ]
    }
   ],
   "source": [
    "for spin_z_x2 in [1, -1]:\n",
    "    for parity in [1, -1]:\n",
    "        sourcewave = wavefunction_Hadron4D.objects.filter(tag=\"proton\", spin_z_x2=spin_z_x2, parity=parity)\n",
    "        if len(sourcewave) != 1:\n",
    "            print(f\"Hadron not unique: {sourcewave}\")\n",
    "            break\n",
    "        else:\n",
    "            sourcewave = sourcewave.first()\n",
    "        sinkwave = wavefunction_Hadron.objects.filter(tag=\"proton\", spin_z_x2=spin_z_x2, parity=parity, momentum=0)\n",
    "        if len(sinkwave) != 1:\n",
    "            print(f\"Hadron not unique: {sinkwave}\")\n",
    "            break\n",
    "        else:\n",
    "            sinkwave = sinkwave.first()\n",
    "        print(sinkwave)\n",
    "        for gaugeconfig in gaugeconfigs[:1]:\n",
    "            propagator = propagator_OneToAll.objects.filter(gaugeconfig=gaugeconfig)\n",
    "            \"\"\"\n",
    "            baryon2pt, created = correlator_Baryon2pt.objects.get_or_create(\n",
    "                propagator0=baryon2pt_propagator0, # Foreign Key to first `propagator`\n",
    "                propagator1=baryon2pt_propagator1, # Foreign Key to second `propagator`, and must be \\(\\leq\\) `propagator0` (also Foreign…\n",
    "                propagator2=baryon2pt_propagator2, # Foreign Key to third `propagator`, and must be \\(\\leq\\) `propagator1` (also Foreign…\n",
    "                sourcewave=baryon2pt_sourcewave, # Foreign Key to source interpolating operator `wavefunction`\n",
    "                sinkwave=baryon2pt_sinkwave, # Foreign Key to sink interpolating operator `wavefunction`\n",
    "                tag=, # (Optional) User defined tag for easy searches\n",
    "            )\n",
    "\n",
    "            status_baryon2pt, created = status_Baryon2pt.objects.get_or_create(\n",
    "                baryon2pt=baryon2pt, # ForeignKey: Baryon two point correlation function\n",
    "                tag=, # (Optional) User defined tag for easy searches\n",
    "                home=, # (Optional) (Optional) Text: Computing facility where the object resides at\n",
    "                file_path=, # (Optional) (Optional) Text: Path to hdf5 file\n",
    "                dset_path=, # (Optional) (Optional) Text: Path to dset in hdf5 file\n",
    "                status=, # (Optional) PositiveSmallInt: Encode categorical status labels\n",
    "                source_group=, # (Optional) PositiveSmallInt: Index to the source group\n",
    "            )\n",
    "            \"\"\""
   ]
  }
 ],
 "metadata": {
  "kernelspec": {
   "display_name": "lattedb",
   "language": "python",
   "name": "lattedb"
  },
  "language_info": {
   "codemirror_mode": {
    "name": "ipython",
    "version": 3
   },
   "file_extension": ".py",
   "mimetype": "text/x-python",
   "name": "python",
   "nbconvert_exporter": "python",
   "pygments_lexer": "ipython3",
   "version": "3.7.3"
  }
 },
 "nbformat": 4,
 "nbformat_minor": 2
}
