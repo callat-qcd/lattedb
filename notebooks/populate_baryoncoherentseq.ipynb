{
 "cells": [
  {
   "cell_type": "code",
   "execution_count": 1,
   "metadata": {
    "collapsed": true
   },
   "outputs": [],
   "source": [
    "from lattedb.wavefunction.models import Hadron as wavefunction_Hadron\n",
    "from lattedb.wavefunction.models import Hadron4D as wavefunction_Hadron4D\n",
    "from lattedb.fermionaction.models import Hisq as fermionaction_Hisq\n",
    "from lattedb.gaugeaction.models import LuescherWeisz as gaugeaction_LuescherWeisz\n",
    "from lattedb.fermionaction.models import MobiusDW as fermionaction_MobiusDW\n",
    "from lattedb.gaugeconfig.models import Nf211 as gaugeconfig_Nf211\n",
    "from lattedb.quarksmear.models import Point as quarksmear_Point\n",
    "from lattedb.linksmear.models import WilsonFlow as linksmear_WilsonFlow\n",
    "from lattedb.propagator.models import BaryonCoherentSeq as propagator_BaryonCoherentSeq\n",
    "from lattedb.propagator.models import OneToAll as propagator_OneToAll"
   ]
  },
  {
   "cell_type": "code",
   "execution_count": 2,
   "metadata": {
    "scrolled": true
   },
   "outputs": [
    {
     "data": {
      "text/plain": [
       "(<ManyToManyRel: propagator.baryoncoherentseq>,\n",
       " <ManyToManyRel: propagator.baryoncoherentseq>,\n",
       " <django.db.models.fields.AutoField: id>,\n",
       " <django.db.models.fields.DateTimeField: last_modified>,\n",
       " <django.db.models.fields.related.ForeignKey: user>,\n",
       " <django.db.models.fields.CharField: tag>,\n",
       " <ManyToOneRel: ga_q2.onetoallstatus>,\n",
       " <django.db.models.fields.related.OneToOneField: propagator_ptr>,\n",
       " <django.db.models.fields.related.ForeignKey: gaugeconfig>,\n",
       " <django.db.models.fields.related.ForeignKey: fermionaction>,\n",
       " <django.db.models.fields.PositiveSmallIntegerField: origin_x>,\n",
       " <django.db.models.fields.PositiveSmallIntegerField: origin_y>,\n",
       " <django.db.models.fields.PositiveSmallIntegerField: origin_z>,\n",
       " <django.db.models.fields.PositiveSmallIntegerField: origin_t>,\n",
       " <django.db.models.fields.related.ForeignKey: sourcesmear>,\n",
       " <django.db.models.fields.related.ForeignKey: sinksmear>)"
      ]
     },
     "execution_count": 2,
     "metadata": {},
     "output_type": "execute_result"
    }
   ],
   "source": [
    "propagator_OneToAll._meta.get_fields()"
   ]
  },
  {
   "cell_type": "code",
   "execution_count": 3,
   "metadata": {
    "scrolled": true
   },
   "outputs": [
    {
     "data": {
      "text/plain": [
       "(<ManyToOneRel: propagator.onetoall>,\n",
       " <ManyToOneRel: propagator.baryoncoherentseq>,\n",
       " <ManyToOneRel: propagator.feynmanhellmann>,\n",
       " <django.db.models.fields.AutoField: id>,\n",
       " <django.db.models.fields.DateTimeField: last_modified>,\n",
       " <django.db.models.fields.related.ForeignKey: user>,\n",
       " <django.db.models.fields.CharField: tag>,\n",
       " <django.db.models.fields.related.OneToOneField: fermionaction_ptr>,\n",
       " <django.db.models.fields.DecimalField: quark_mass>,\n",
       " <django.db.models.fields.TextField: quark_tag>,\n",
       " <django.db.models.fields.PositiveSmallIntegerField: l5>,\n",
       " <django.db.models.fields.DecimalField: m5>,\n",
       " <django.db.models.fields.DecimalField: b5>,\n",
       " <django.db.models.fields.DecimalField: c5>,\n",
       " <django.db.models.fields.related.ForeignKey: linksmear>)"
      ]
     },
     "execution_count": 3,
     "metadata": {},
     "output_type": "execute_result"
    }
   ],
   "source": [
    "fermionaction_MobiusDW._meta.get_fields()"
   ]
  },
  {
   "cell_type": "code",
<<<<<<< HEAD
   "execution_count": 4,
   "metadata": {},
   "outputs": [],
   "source": [
    "# change parameters starting here\n",
    "gaugeconfigs = gaugeconfig_Nf211.objects.filter(short_tag=\"a09m310\")"
=======
   "execution_count": 39,
   "metadata": {},
   "outputs": [
    {
     "data": {
      "text/plain": [
       "<MobiusDW: MobiusDW[FermionAction](tag=M51.1_L56_a1.5, quark_mass=0.009510, quark_tag=light, l5=6, m5=1.100000, b5=1.250000, c5=0.250000)>"
      ]
     },
     "execution_count": 39,
     "metadata": {},
     "output_type": "execute_result"
    }
   ],
   "source": [
    "# change parameters starting here\n",
    "gaugeconfigs = gaugeconfig_Nf211.objects.filter(short_tag=\"a09m310\")\n",
    "fermionaction = fermionaction_MobiusDW.objects.filter(quark_tag=\"light\").first()"
>>>>>>> b2116ce37f89cbc5629a0f5c825dce7bb5e9b416
   ]
  },
  {
   "cell_type": "code",
<<<<<<< HEAD
   "execution_count": 5,
   "metadata": {
    "collapsed": true
   },
=======
   "execution_count": 19,
   "metadata": {},
>>>>>>> b2116ce37f89cbc5629a0f5c825dce7bb5e9b416
   "outputs": [],
   "source": [
    "import sys\n",
    "sys.path.append('../../nucleon_elastic_FF/scripts/area51_files')\n",
    "sys.path.append('../../nucleon_elastic_FF/scripts')\n",
    "import sources\n",
    "import utils\n",
    "import a09m310 as a51\n",
    "p = a51.mpirun_params(\"summit\")\n",
    "p[\"STREAM\"] = \"e\"\n",
    "cfgs_run, p['srcs'] = utils.parse_cfg_src_argument([p[\"cfg_i\"], p[\"cfg_f\"], p[\"cfg_d\"]],'',p)"
   ]
  },
  {
   "cell_type": "code",
<<<<<<< HEAD
   "execution_count": 21,
=======
   "execution_count": 70,
>>>>>>> b2116ce37f89cbc5629a0f5c825dce7bb5e9b416
   "metadata": {},
   "outputs": [
    {
     "name": "stdout",
     "output_type": "stream",
     "text": [
<<<<<<< HEAD
      ">>True seqprop_a09m310_e_306_proton_np_DD_dn_dn_gf1.0_n40_M51.1_L56_a1.5_w3.5_n45_mq0.00951_px0py0pz0_dt-14_Srcs0-7_SS"
=======
      "seqprop_a09m310_e_306_proton_pp_gf1.0_n40_M51.1_L56_a1.5_mq0.00951_px0py0pz0_dt2\n",
      "seqprop_a09m310_e_306_proton_pp_gf1.0_n40_M51.1_L56_a1.5_mq0.00951_px0py0pz0_dt3\n",
      "seqprop_a09m310_e_306_proton_pp_gf1.0_n40_M51.1_L56_a1.5_mq0.00951_px0py0pz0_dt4\n",
      "seqprop_a09m310_e_306_proton_pp_gf1.0_n40_M51.1_L56_a1.5_mq0.00951_px0py0pz0_dt5\n",
      "seqprop_a09m310_e_306_proton_pp_gf1.0_n40_M51.1_L56_a1.5_mq0.00951_px0py0pz0_dt6\n",
      "seqprop_a09m310_e_306_proton_pp_gf1.0_n40_M51.1_L56_a1.5_mq0.00951_px0py0pz0_dt7\n",
      "seqprop_a09m310_e_306_proton_pp_gf1.0_n40_M51.1_L56_a1.5_mq0.00951_px0py0pz0_dt8\n",
      "seqprop_a09m310_e_306_proton_pp_gf1.0_n40_M51.1_L56_a1.5_mq0.00951_px0py0pz0_dt9\n",
      "seqprop_a09m310_e_306_proton_pp_gf1.0_n40_M51.1_L56_a1.5_mq0.00951_px0py0pz0_dt10\n",
      "seqprop_a09m310_e_306_proton_pp_gf1.0_n40_M51.1_L56_a1.5_mq0.00951_px0py0pz0_dt11\n",
      "seqprop_a09m310_e_306_proton_pp_gf1.0_n40_M51.1_L56_a1.5_mq0.00951_px0py0pz0_dt12\n",
      "seqprop_a09m310_e_306_proton_pp_gf1.0_n40_M51.1_L56_a1.5_mq0.00951_px0py0pz0_dt13\n",
      "seqprop_a09m310_e_306_proton_pp_gf1.0_n40_M51.1_L56_a1.5_mq0.00951_px0py0pz0_dt14\n",
      "seqprop_a09m310_e_306_proton_pp_gf1.0_n40_M51.1_L56_a1.5_mq0.00951_px0py0pz0_dt2\n",
      "seqprop_a09m310_e_306_proton_pp_gf1.0_n40_M51.1_L56_a1.5_mq0.00951_px0py0pz0_dt3\n",
      "seqprop_a09m310_e_306_proton_pp_gf1.0_n40_M51.1_L56_a1.5_mq0.00951_px0py0pz0_dt4\n",
      "seqprop_a09m310_e_306_proton_pp_gf1.0_n40_M51.1_L56_a1.5_mq0.00951_px0py0pz0_dt5\n",
      "seqprop_a09m310_e_306_proton_pp_gf1.0_n40_M51.1_L56_a1.5_mq0.00951_px0py0pz0_dt6\n",
      "seqprop_a09m310_e_306_proton_pp_gf1.0_n40_M51.1_L56_a1.5_mq0.00951_px0py0pz0_dt7\n",
      "seqprop_a09m310_e_306_proton_pp_gf1.0_n40_M51.1_L56_a1.5_mq0.00951_px0py0pz0_dt8\n",
      "seqprop_a09m310_e_306_proton_pp_gf1.0_n40_M51.1_L56_a1.5_mq0.00951_px0py0pz0_dt9\n",
      "seqprop_a09m310_e_306_proton_pp_gf1.0_n40_M51.1_L56_a1.5_mq0.00951_px0py0pz0_dt10\n",
      "seqprop_a09m310_e_306_proton_pp_gf1.0_n40_M51.1_L56_a1.5_mq0.00951_px0py0pz0_dt11\n",
      "seqprop_a09m310_e_306_proton_pp_gf1.0_n40_M51.1_L56_a1.5_mq0.00951_px0py0pz0_dt12\n",
      "seqprop_a09m310_e_306_proton_pp_gf1.0_n40_M51.1_L56_a1.5_mq0.00951_px0py0pz0_dt13\n",
      "seqprop_a09m310_e_306_proton_pp_gf1.0_n40_M51.1_L56_a1.5_mq0.00951_px0py0pz0_dt14\n",
      "seqprop_a09m310_e_306_proton_pp_gf1.0_n40_M51.1_L56_a1.5_mq0.00951_px0py0pz0_dt2\n",
      "seqprop_a09m310_e_306_proton_pp_gf1.0_n40_M51.1_L56_a1.5_mq0.00951_px0py0pz0_dt3\n",
      "seqprop_a09m310_e_306_proton_pp_gf1.0_n40_M51.1_L56_a1.5_mq0.00951_px0py0pz0_dt4\n",
      "seqprop_a09m310_e_306_proton_pp_gf1.0_n40_M51.1_L56_a1.5_mq0.00951_px0py0pz0_dt5\n",
      "seqprop_a09m310_e_306_proton_pp_gf1.0_n40_M51.1_L56_a1.5_mq0.00951_px0py0pz0_dt6\n",
      "seqprop_a09m310_e_306_proton_pp_gf1.0_n40_M51.1_L56_a1.5_mq0.00951_px0py0pz0_dt7\n",
      "seqprop_a09m310_e_306_proton_pp_gf1.0_n40_M51.1_L56_a1.5_mq0.00951_px0py0pz0_dt8\n",
      "seqprop_a09m310_e_306_proton_pp_gf1.0_n40_M51.1_L56_a1.5_mq0.00951_px0py0pz0_dt9\n",
      "seqprop_a09m310_e_306_proton_pp_gf1.0_n40_M51.1_L56_a1.5_mq0.00951_px0py0pz0_dt10\n",
      "seqprop_a09m310_e_306_proton_pp_gf1.0_n40_M51.1_L56_a1.5_mq0.00951_px0py0pz0_dt11\n",
      "seqprop_a09m310_e_306_proton_pp_gf1.0_n40_M51.1_L56_a1.5_mq0.00951_px0py0pz0_dt12\n",
      "seqprop_a09m310_e_306_proton_pp_gf1.0_n40_M51.1_L56_a1.5_mq0.00951_px0py0pz0_dt13\n",
      "seqprop_a09m310_e_306_proton_pp_gf1.0_n40_M51.1_L56_a1.5_mq0.00951_px0py0pz0_dt14\n",
      "seqprop_a09m310_e_306_proton_pp_gf1.0_n40_M51.1_L56_a1.5_mq0.00951_px0py0pz0_dt2\n",
      "seqprop_a09m310_e_306_proton_pp_gf1.0_n40_M51.1_L56_a1.5_mq0.00951_px0py0pz0_dt3\n",
      "seqprop_a09m310_e_306_proton_pp_gf1.0_n40_M51.1_L56_a1.5_mq0.00951_px0py0pz0_dt4\n",
      "seqprop_a09m310_e_306_proton_pp_gf1.0_n40_M51.1_L56_a1.5_mq0.00951_px0py0pz0_dt5\n",
      "seqprop_a09m310_e_306_proton_pp_gf1.0_n40_M51.1_L56_a1.5_mq0.00951_px0py0pz0_dt6\n",
      "seqprop_a09m310_e_306_proton_pp_gf1.0_n40_M51.1_L56_a1.5_mq0.00951_px0py0pz0_dt7\n",
      "seqprop_a09m310_e_306_proton_pp_gf1.0_n40_M51.1_L56_a1.5_mq0.00951_px0py0pz0_dt8\n",
      "seqprop_a09m310_e_306_proton_pp_gf1.0_n40_M51.1_L56_a1.5_mq0.00951_px0py0pz0_dt9\n",
      "seqprop_a09m310_e_306_proton_pp_gf1.0_n40_M51.1_L56_a1.5_mq0.00951_px0py0pz0_dt10\n",
      "seqprop_a09m310_e_306_proton_pp_gf1.0_n40_M51.1_L56_a1.5_mq0.00951_px0py0pz0_dt11\n",
      "seqprop_a09m310_e_306_proton_pp_gf1.0_n40_M51.1_L56_a1.5_mq0.00951_px0py0pz0_dt12\n",
      "seqprop_a09m310_e_306_proton_pp_gf1.0_n40_M51.1_L56_a1.5_mq0.00951_px0py0pz0_dt13\n",
      "seqprop_a09m310_e_306_proton_pp_gf1.0_n40_M51.1_L56_a1.5_mq0.00951_px0py0pz0_dt14\n",
      "seqprop_a09m310_e_306_proton_np_gf1.0_n40_M51.1_L56_a1.5_mq0.00951_px0py0pz0_dt-2\n",
      "seqprop_a09m310_e_306_proton_np_gf1.0_n40_M51.1_L56_a1.5_mq0.00951_px0py0pz0_dt-3\n",
      "seqprop_a09m310_e_306_proton_np_gf1.0_n40_M51.1_L56_a1.5_mq0.00951_px0py0pz0_dt-4\n",
      "seqprop_a09m310_e_306_proton_np_gf1.0_n40_M51.1_L56_a1.5_mq0.00951_px0py0pz0_dt-5\n",
      "seqprop_a09m310_e_306_proton_np_gf1.0_n40_M51.1_L56_a1.5_mq0.00951_px0py0pz0_dt-6\n",
      "seqprop_a09m310_e_306_proton_np_gf1.0_n40_M51.1_L56_a1.5_mq0.00951_px0py0pz0_dt-7\n",
      "seqprop_a09m310_e_306_proton_np_gf1.0_n40_M51.1_L56_a1.5_mq0.00951_px0py0pz0_dt-8\n",
      "seqprop_a09m310_e_306_proton_np_gf1.0_n40_M51.1_L56_a1.5_mq0.00951_px0py0pz0_dt-9\n",
      "seqprop_a09m310_e_306_proton_np_gf1.0_n40_M51.1_L56_a1.5_mq0.00951_px0py0pz0_dt-10\n",
      "seqprop_a09m310_e_306_proton_np_gf1.0_n40_M51.1_L56_a1.5_mq0.00951_px0py0pz0_dt-11\n",
      "seqprop_a09m310_e_306_proton_np_gf1.0_n40_M51.1_L56_a1.5_mq0.00951_px0py0pz0_dt-12\n",
      "seqprop_a09m310_e_306_proton_np_gf1.0_n40_M51.1_L56_a1.5_mq0.00951_px0py0pz0_dt-13\n",
      "seqprop_a09m310_e_306_proton_np_gf1.0_n40_M51.1_L56_a1.5_mq0.00951_px0py0pz0_dt-14\n",
      "seqprop_a09m310_e_306_proton_np_gf1.0_n40_M51.1_L56_a1.5_mq0.00951_px0py0pz0_dt-2\n",
      "seqprop_a09m310_e_306_proton_np_gf1.0_n40_M51.1_L56_a1.5_mq0.00951_px0py0pz0_dt-3\n",
      "seqprop_a09m310_e_306_proton_np_gf1.0_n40_M51.1_L56_a1.5_mq0.00951_px0py0pz0_dt-4\n",
      "seqprop_a09m310_e_306_proton_np_gf1.0_n40_M51.1_L56_a1.5_mq0.00951_px0py0pz0_dt-5\n",
      "seqprop_a09m310_e_306_proton_np_gf1.0_n40_M51.1_L56_a1.5_mq0.00951_px0py0pz0_dt-6\n",
      "seqprop_a09m310_e_306_proton_np_gf1.0_n40_M51.1_L56_a1.5_mq0.00951_px0py0pz0_dt-7\n",
      "seqprop_a09m310_e_306_proton_np_gf1.0_n40_M51.1_L56_a1.5_mq0.00951_px0py0pz0_dt-8\n",
      "seqprop_a09m310_e_306_proton_np_gf1.0_n40_M51.1_L56_a1.5_mq0.00951_px0py0pz0_dt-9\n",
      "seqprop_a09m310_e_306_proton_np_gf1.0_n40_M51.1_L56_a1.5_mq0.00951_px0py0pz0_dt-10\n",
      "seqprop_a09m310_e_306_proton_np_gf1.0_n40_M51.1_L56_a1.5_mq0.00951_px0py0pz0_dt-11\n",
      "seqprop_a09m310_e_306_proton_np_gf1.0_n40_M51.1_L56_a1.5_mq0.00951_px0py0pz0_dt-12\n",
      "seqprop_a09m310_e_306_proton_np_gf1.0_n40_M51.1_L56_a1.5_mq0.00951_px0py0pz0_dt-13\n",
      "seqprop_a09m310_e_306_proton_np_gf1.0_n40_M51.1_L56_a1.5_mq0.00951_px0py0pz0_dt-14\n",
      "seqprop_a09m310_e_306_proton_np_gf1.0_n40_M51.1_L56_a1.5_mq0.00951_px0py0pz0_dt-2\n",
      "seqprop_a09m310_e_306_proton_np_gf1.0_n40_M51.1_L56_a1.5_mq0.00951_px0py0pz0_dt-3\n",
      "seqprop_a09m310_e_306_proton_np_gf1.0_n40_M51.1_L56_a1.5_mq0.00951_px0py0pz0_dt-4\n",
      "seqprop_a09m310_e_306_proton_np_gf1.0_n40_M51.1_L56_a1.5_mq0.00951_px0py0pz0_dt-5\n",
      "seqprop_a09m310_e_306_proton_np_gf1.0_n40_M51.1_L56_a1.5_mq0.00951_px0py0pz0_dt-6\n",
      "seqprop_a09m310_e_306_proton_np_gf1.0_n40_M51.1_L56_a1.5_mq0.00951_px0py0pz0_dt-7\n",
      "seqprop_a09m310_e_306_proton_np_gf1.0_n40_M51.1_L56_a1.5_mq0.00951_px0py0pz0_dt-8\n",
      "seqprop_a09m310_e_306_proton_np_gf1.0_n40_M51.1_L56_a1.5_mq0.00951_px0py0pz0_dt-9\n",
      "seqprop_a09m310_e_306_proton_np_gf1.0_n40_M51.1_L56_a1.5_mq0.00951_px0py0pz0_dt-10\n",
      "seqprop_a09m310_e_306_proton_np_gf1.0_n40_M51.1_L56_a1.5_mq0.00951_px0py0pz0_dt-11\n",
      "seqprop_a09m310_e_306_proton_np_gf1.0_n40_M51.1_L56_a1.5_mq0.00951_px0py0pz0_dt-12\n",
      "seqprop_a09m310_e_306_proton_np_gf1.0_n40_M51.1_L56_a1.5_mq0.00951_px0py0pz0_dt-13\n",
      "seqprop_a09m310_e_306_proton_np_gf1.0_n40_M51.1_L56_a1.5_mq0.00951_px0py0pz0_dt-14\n",
      "seqprop_a09m310_e_306_proton_np_gf1.0_n40_M51.1_L56_a1.5_mq0.00951_px0py0pz0_dt-2\n",
      "seqprop_a09m310_e_306_proton_np_gf1.0_n40_M51.1_L56_a1.5_mq0.00951_px0py0pz0_dt-3\n",
      "seqprop_a09m310_e_306_proton_np_gf1.0_n40_M51.1_L56_a1.5_mq0.00951_px0py0pz0_dt-4\n",
      "seqprop_a09m310_e_306_proton_np_gf1.0_n40_M51.1_L56_a1.5_mq0.00951_px0py0pz0_dt-5\n",
      "seqprop_a09m310_e_306_proton_np_gf1.0_n40_M51.1_L56_a1.5_mq0.00951_px0py0pz0_dt-6\n",
      "seqprop_a09m310_e_306_proton_np_gf1.0_n40_M51.1_L56_a1.5_mq0.00951_px0py0pz0_dt-7\n",
      "seqprop_a09m310_e_306_proton_np_gf1.0_n40_M51.1_L56_a1.5_mq0.00951_px0py0pz0_dt-8\n",
      "seqprop_a09m310_e_306_proton_np_gf1.0_n40_M51.1_L56_a1.5_mq0.00951_px0py0pz0_dt-9\n",
      "seqprop_a09m310_e_306_proton_np_gf1.0_n40_M51.1_L56_a1.5_mq0.00951_px0py0pz0_dt-10\n",
      "seqprop_a09m310_e_306_proton_np_gf1.0_n40_M51.1_L56_a1.5_mq0.00951_px0py0pz0_dt-11\n",
      "seqprop_a09m310_e_306_proton_np_gf1.0_n40_M51.1_L56_a1.5_mq0.00951_px0py0pz0_dt-12\n",
      "seqprop_a09m310_e_306_proton_np_gf1.0_n40_M51.1_L56_a1.5_mq0.00951_px0py0pz0_dt-13\n",
      "seqprop_a09m310_e_306_proton_np_gf1.0_n40_M51.1_L56_a1.5_mq0.00951_px0py0pz0_dt-14\n"
>>>>>>> b2116ce37f89cbc5629a0f5c825dce7bb5e9b416
     ]
    }
   ],
   "source": [
    "# sink smear of sequential propagator\n",
    "# this should always be point\n",
    "sinksmear, created = quarksmear_Point.objects.get_or_create(\n",
    "\ttag=\"point\", # (Optional) User defined tag for easy searches\n",
    "\tdescription=\"Point\", # (Optional) Description of the quark smearing operator\n",
    ")\n",
    "\n",
<<<<<<< HEAD
    "linksmear, created = linksmear_WilsonFlow.objects.get_or_create(\n",
    "   \tflowtime=p[\"FLOW_TIME\"], # Flow time in lattice units\n",
    "\tflowstep=p[\"FLOW_STEP\"], # Number of diffusion steps\n",
    ")\n",
    "\n",
    "for quark_tag in [\"up\", \"down\"]:\n",
    "    fermion_tag = f\"M5{p['M5']}_L5{p['L5']}_a{p['alpha5']}\"\n",
    "    fermionaction, created = fermionaction_MobiusDW.objects.get_or_create(\n",
    "        quark_mass=p[\"MV_L\"], # Input quark mass\n",
    "        quark_tag=quark_tag, # Type of quark\n",
    "        l5=p[\"L5\"], # Length of 5th dimension\n",
    "        m5=p[\"M5\"], # 5th dimensional mass\n",
    "        b5=p[\"B5\"], # Mobius kernel parameter [a5 = b5 - c5, alpha5 * a5 =…\n",
    "        c5=p[\"C5\"], # Mobius kernal perameter\n",
    "        linksmear=linksmear, # Foreign Key pointing to additional gauge `linksmear` outside of Monte Carlo.\n",
    "        tag=fermion_tag, # (Optional) User defined tag for easy searches\n",
    "    )\n",
    "    if quark_tag == \"up\": qtag = \"UU\"\n",
    "    if quark_tag == \"down\": qtag = \"DD\"\n",
    "    for parity in [1, -1]:\n",
    "        for spin_z_x2 in [1, -1]:\n",
    "            if parity == 1: paritytag = \"pp\"\n",
    "            else: paritytag = \"np\"\n",
    "            if spin_z_x2 == 1: spintag = \"up\"\n",
    "            else: spintag = \"dn\"\n",
    "            sinkwave, created = wavefunction_Hadron.objects.get_or_create(\n",
    "                strangeness=0, # Strangeness of hadronic operator\n",
    "                irrep=\"G\", # Irreducible representations of O^D_h (octahedral group)\n",
    "                embedding=1, # k-th embedding of O^D_h irrep., can be blank\n",
    "                parity=parity, # Parity of hadronic operator\n",
    "                spin_x2=1, # Total spin times 2\n",
    "                spin_z_x2=spin_z_x2, # Spin in \\(z\\)-direction\n",
    "                isospin_x2=1, # Total isospin times 2\n",
    "                isospin_z_x2=1, # Isospin in \\(z\\)-direction times 2\n",
    "                momentum=0, # Momentum in units of 2 pi / L\n",
    "                tag=\"proton\", # (Optional) User defined tag for easy searches\n",
    "                description=f\"G1 irrep {paritytag} spin {spintag} proton\", # (Optional) Description of the interpolating operator\n",
    "            )\n",
    "            if spin_z_x2 == 1: snkspntag = \"up\"\n",
    "            else: snkspntag = \"dn\"\n",
    "            sourcewave, created = wavefunction_Hadron4D.objects.get_or_create(\n",
    "                strangeness=0, # Strangeness of hadronic operator\n",
    "                irrep=\"G\", # Irreducible representations of O^D_h (octahedral group)\n",
    "                embedding=1, # k-th embedding of O^D_h irrep., can be blank\n",
    "                parity=parity, # Parity of hadronic operator\n",
    "                spin_x2=1, # Total spin times 2\n",
    "                spin_z_x2=spin_z_x2, # Spin in \\(z\\)-direction\n",
    "                isospin_x2=1, # Total isospin times 2\n",
    "                isospin_z_x2=1, # Isospin in \\(z\\)-direction times 2\n",
    "                tag=\"proton\", # (Optional) User defined tag for easy searches\n",
    "                description=f\"G1 irrep {paritytag} spin {spintag} proton\", # (Optional) Description of the interpolating operator\n",
    "            )\n",
    "            if spin_z_x2 == 1: srcspntag = \"up\"\n",
    "            else: srcspntag = \"dn\"\n",
    "            for gaugeconfig in gaugeconfigs:\n",
    "                for sinksmear_bool in [False, True]:\n",
    "                    propagators = propagator_OneToAll.objects.filter(gaugeconfig=gaugeconfig,\n",
    "                                                                     fermionaction__mobiusdw__quark_tag=\"light\",\n",
    "                                                                     sinksmear__point__isnull=sinksmear_bool,\n",
    "                                                                    )\n",
    "                    if propagators[0].sourcesmear.type == \"Point\": srcsmrtag = \"P\"\n",
    "                    else: srcsmrtag = \"S\"\n",
    "                    if propagators[0].sinksmear.type == \"Point\": snksmrtag = \"P\"\n",
    "                    else: snksmrtag = \"S\"\n",
    "                    smrtag = f\"{snksmrtag}{srcsmrtag}\"\n",
    "                    for sinksep in p[\"t_seps\"]:\n",
    "                        mq = propagators[0].tag.split('_')[2][2:]\n",
    "                        paction = f\"{propagators[0].tag.split('wflow')[1].split('_cfg')[0]}_{propagators[0].tag.split('wv_')[1]}\"\n",
    "                        pmom = f\"px{sinkwave.momentum}py{sinkwave.momentum}pz{sinkwave.momentum}\"\n",
    "                        tag = f\"seqprop_{gaugeconfig.short_tag}_{gaugeconfig.stream}_{gaugeconfig.config}_{sinkwave.tag}_{paritytag}_{qtag}_{snkspntag}_{srcspntag}_gf{paction}_mq{mq}_{pmom}_dt{parity*sinksep}_Srcs0-7_{smrtag}\"\n",
    "                        propagator_baryoncoherentseq, created = propagator_BaryonCoherentSeq.objects.get_or_create(\n",
    "                            gaugeconfig=gaugeconfig, # Foreign Key referencing specific `gaugeconfig` inverted on\n",
    "                            fermionaction=fermionaction, # Foreign Key referencing valence lattice `fermionaction`\n",
    "                            sourcewave=sourcewave,\n",
    "                            sinkwave=sinkwave, # Foreign Key referencing sink interpolating operator `wavefunction`\n",
    "                            sinksmear=sinksmear, # Foreign Key pointing to sink `quarksmear` which should be Point unless some…\n",
    "                            sinksep=sinksep, # Source-sink separation time\n",
    "                            tag=tag# (Optional) User defined tag for easy searches\n",
    "                        )\n",
    "                        propagator_baryoncoherentseq.propagator0.add(*propagators)\n",
    "                        propagator_baryoncoherentseq.propagator1.add(*propagators)\n",
    "                        print(f\"\\r>>{created} {tag}\", end=\"\")"
=======
    "for parity in [1, -1]:\n",
    "    for spin_z_x2 in [1, -1]:\n",
    "        if parity == 1: paritytag = \"pp\"\n",
    "        else: paritytag = \"np\"\n",
    "        if spin_z_x2 == 1: spintag = \"up\"\n",
    "        else: spintag = \"dn\"\n",
    "        sinkwave, created = wavefunction_Hadron.objects.get_or_create(\n",
    "            strangeness=0, # Strangeness of hadronic operator\n",
    "            irrep=\"G\", # Irreducible representations of O^D_h (octahedral group)\n",
    "            embedding=1, # k-th embedding of O^D_h irrep., can be blank\n",
    "            parity=parity, # Parity of hadronic operator\n",
    "            spin_x2=1, # Total spin times 2\n",
    "            spin_z_x2=spin_z_x2, # Spin in \\(z\\)-direction\n",
    "            isospin_x2=1, # Total isospin times 2\n",
    "            isospin_z_x2=1, # Isospin in \\(z\\)-direction times 2\n",
    "            momentum=0, # Momentum in units of 2 pi / L\n",
    "            tag=\"proton\", # (Optional) User defined tag for easy searches\n",
    "            description=f\"G1 irrep {paritytag} spin {spintag} proton\", # (Optional) Description of the interpolating operator\n",
    "        )\n",
    "        for gaugeconfig in gaugeconfigs[:1]:\n",
    "            for sinksmear_bool in [False, True]:\n",
    "                propagators = propagator_OneToAll.objects.filter(gaugeconfig=gaugeconfig,\n",
    "                                                                 fermionaction__mobiusdw__quark_tag=\"light\",\n",
    "                                                                 sinksmear__point__isnull=False,\n",
    "                                                                )\n",
    "                #seqprop_a15m135XL_b_1175_proton_np_UU_up_up_gf1.0_w3.0_n30_M51.3_L524_a3.5_mq0.00237_px0py0pz0_dt-5_Srcs16-23_SS.lime\n",
    "\n",
    "                for sinksep in p[\"t_seps\"]:\n",
    "                    mq = propagators[0].tag.split('_')[2][2:]\n",
    "                    paction = propagators[0].tag.split('wflow')[1].split(\"_cfg\")[0]\n",
    "                    pmom = f\"px{sinkwave.momentum}py{sinkwave.momentum}pz{sinkwave.momentum}\"\n",
    "                    tag = f\"seqprop_{gaugeconfig.short_tag}_{gaugeconfig.stream}_{gaugeconfig.config}_{sinkwave.tag}_{paritytag}_gf{paction}_mq{mq}_{pmom}_dt{parity*sinksep}\"\n",
    "                    print(tag)\n",
    "                    \"\"\"\n",
    "                    propagator_baryoncoherentseq, created = propagator_BaryonCoherentSeq.objects.get_or_create(\n",
    "                        gaugeconfig=gaugeconfig, # Foreign Key referencing specific `gaugeconfig` inverted on\n",
    "                        fermionaction=fermionaction, # Foreign Key referencing valence lattice `fermionaction`\n",
    "                        sinkwave=sinkwave, # Foreign Key referencing sink interpolating operator `wavefunction`\n",
    "                        sinksmear=sinksmear, # Foreign Key pointing to sink `quarksmear` which should be Point unless some…\n",
    "                        sinksep=sinksep, # Source-sink separation time\n",
    "                        tag=tag# (Optional) User defined tag for easy searches\n",
    "                    )\n",
    "                    propagator_baryoncoherentseq.propagator0.add(*propagators)\n",
    "                    propagator_baryoncoherentseq.propagator1.add(*propagators)\n",
    "                    print(f\"\\r>>{created} {tag}\", end=\"\")\n",
    "                    \"\"\""
>>>>>>> b2116ce37f89cbc5629a0f5c825dce7bb5e9b416
   ]
  },
  {
   "cell_type": "code",
   "execution_count": null,
   "metadata": {
    "collapsed": true
   },
   "outputs": [],
   "source": []
  }
 ],
 "metadata": {
  "kernelspec": {
   "display_name": "lattedb",
   "language": "python",
   "name": "lattedb"
  },
  "language_info": {
   "codemirror_mode": {
    "name": "ipython",
    "version": 3
   },
   "file_extension": ".py",
   "mimetype": "text/x-python",
   "name": "python",
   "nbconvert_exporter": "python",
   "pygments_lexer": "ipython3",
   "version": "3.7.3"
  }
 },
 "nbformat": 4,
 "nbformat_minor": 2
}
