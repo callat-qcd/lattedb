{
 "cells": [
  {
   "cell_type": "code",
   "execution_count": null,
   "metadata": {},
   "outputs": [],
   "source": [
    "from typing import List, Dict\n",
    "\n",
    "from lattedb.config.settings import PROJECT_APPS, GRAPH_MODELS\n",
    "from django_extensions.management.modelviz import ModelGraph\n",
    "\n",
    "\n",
    "from bokeh.plotting import figure, show\n",
    "from bokeh.io import output_notebook\n",
    "from bokeh.models.glyphs import Text\n",
    "from bokeh.models import ColumnDataSource, LabelSet\n",
    "\n",
    "import networkx as nx\n",
    "from networkx.drawing.nx_agraph import write_dot"
   ]
  },
  {
   "cell_type": "code",
   "execution_count": null,
   "metadata": {},
   "outputs": [],
   "source": [
    "%load_ext blackcellmagic"
   ]
  },
  {
   "cell_type": "code",
   "execution_count": null,
   "metadata": {},
   "outputs": [],
   "source": [
    "def get_graph_data(\n",
    "    all_applications=GRAPH_MODELS.get(\"all_applications\"),\n",
    "    exclude_models=GRAPH_MODELS.get(\"exclude_models\"),\n",
    "    exclude_columns=GRAPH_MODELS.get(\"exclude_columns\"),\n",
    "    **kwargs,\n",
    ") -> List[Dict]:\n",
    "    \"\"\"Returns graph data for all apps and models using `django_extensions` api.\n",
    "    \"\"\"\n",
    "    model_graph = ModelGraph(\n",
    "        [],\n",
    "        all_applications=all_applications,\n",
    "        exclude_models=exclude_models,\n",
    "        exclude_columns=exclude_columns,\n",
    "        **kwargs,\n",
    "    )\n",
    "    model_graph.process_apps()\n",
    "    data = model_graph.get_graph_data(as_json=True)\n",
    "\n",
    "    return data[\"graphs\"]"
   ]
  },
  {
   "cell_type": "code",
   "execution_count": null,
   "metadata": {},
   "outputs": [],
   "source": [
    "from bokeh.models import (\n",
    "    Plot,\n",
    "    Range1d,\n",
    "    MultiLine,\n",
    "    Circle,\n",
    "    HoverTool,\n",
    "    BoxZoomTool,\n",
    "    ResetTool,\n",
    "    PanTool,\n",
    "    CustomJSHover,\n",
    "    TapTool,\n",
    "    BoxSelectTool,\n",
    "    CustomJS,\n",
    ")\n",
    "from bokeh.models.graphs import from_networkx, NodesAndLinkedEdges, EdgesAndLinkedNodes\n",
    "from bokeh.palettes import Spectral4\n"
   ]
  },
  {
   "cell_type": "code",
   "execution_count": null,
   "metadata": {},
   "outputs": [],
   "source": [
    "output_notebook()"
   ]
  },
  {
   "cell_type": "code",
   "execution_count": null,
   "metadata": {},
   "outputs": [],
   "source": [
    "lattedb_data= get_graph_data()"
   ]
  },
  {
   "cell_type": "code",
   "execution_count": null,
   "metadata": {},
   "outputs": [],
   "source": [
    "G = nx.DiGraph()\n",
    "\n",
    "edges = []\n",
    "node_map = {}\n",
    "node_groups = {}\n",
    "bases = []\n",
    "\n",
    "counter = 1\n",
    "for app_data in lattedb_data:\n",
    "    app_name = app_data[\"app_name\"]\n",
    "\n",
    "    model_names = []\n",
    "    for model in app_data[\"models\"]:\n",
    "\n",
    "        node_groups.setdefault(app_name, []).append(model[\"app_name\"])\n",
    "        model_name = model[\"name\"]\n",
    "        model_names.append(model_name)\n",
    "\n",
    "        for relation in model.get(\"relations\", []):\n",
    "\n",
    "            target_app = relation.get(\"target_app\")\n",
    "            target_model = relation.get(\"target\")\n",
    "\n",
    "            column = relation.get(\"name\")\n",
    "            edges.append(\n",
    "                {\n",
    "                    \"app_name\": app_name,\n",
    "                    \"model\": model_name,\n",
    "                    \"target_cluster_name\": target_app,\n",
    "                    \"target_model\": target_model,\n",
    "                    \"column\": column,\n",
    "                }\n",
    "            )\n",
    "\n",
    "    tooltip = \"<h2>models:</h2> <TABLE><li>\" + \"</li><li>\".join(model_names) + \"</ul></TABLE>\"\n",
    "    G.add_node(\n",
    "        counter,\n",
    "        label=\"<\"\n",
    "        + \"<table border='0' cellborder='0' cellspacing='1'>\"\n",
    "        + \"<tr><td align='left'><b>\"+app_name+\"</b></td></tr>\"\n",
    "        + \"<tr><td align='left'>\" \n",
    "        + \"</td></tr><tr><td align='left'>\".join(model_names)\n",
    "        + \"</td></tr></table>>\",\n",
    "        shape=\"plaintext\"\n",
    "    )\n",
    "    node_map[app_name] = counter\n",
    "    counter += 1\n",
    "\n",
    "\n",
    "for edge in edges:\n",
    "    start = node_map.get(edge[\"app_name\"])\n",
    "    end = None\n",
    "\n",
    "    for app_label, group in node_groups.items():\n",
    "        if edge[\"target_cluster_name\"] in group:\n",
    "            end = node_map.get(app_label)\n",
    "            break\n",
    "\n",
    "    if start is not None and end is not None and start != end:\n",
    "        G.add_edge(start, end, tooltip=\"'\"+edge[\"column\"] + \"'\")  # , weight=relation[\"weight\"])\n"
   ]
  },
  {
   "cell_type": "code",
   "execution_count": null,
   "metadata": {},
   "outputs": [],
   "source": [
    "write_dot(G, \"test.dot\")"
   ]
  },
  {
   "cell_type": "code",
   "execution_count": null,
   "metadata": {},
   "outputs": [],
   "source": [
    "!atom test.dot"
   ]
  },
  {
   "cell_type": "code",
   "execution_count": null,
   "metadata": {},
   "outputs": [],
   "source": [
    "plot = Plot(\n",
    "    plot_width=800,\n",
    "    plot_height=800,\n",
    "    x_range=Range1d(-1.1, 1.1),\n",
    "    y_range=Range1d(-1.1, 1.1),\n",
    ")\n",
    "plot.title.text = \"Graph Interaction Demonstration\"\n",
    "\n",
    "node_hover_tool = HoverTool(tooltips=[(\"models\", \"<p>@models</p>\"), (\"column\", \"@column\")], line_policy='next')\n",
    "\n",
    "plot.add_tools(node_hover_tool, BoxZoomTool(), ResetTool(), PanTool(),BoxSelectTool())\n",
    "\n",
    "graph_renderer = from_networkx(G, nx.spring_layout, k=2, scale=1)\n",
    "\n",
    "graph_renderer.node_renderer.glyph = Circle(size=80, fill_color=\"white\", line_color=\"white\")\n",
    "graph_renderer.node_renderer.selection_glyph = Circle(size=80, fill_color=Spectral4[2])\n",
    "\n",
    "graph_renderer.edge_renderer.glyph = MultiLine(line_alpha=0.8, line_width=1)\n",
    "graph_renderer.edge_renderer.hover_glyph = MultiLine(line_color=Spectral4[1], line_width=2)\n",
    "\n",
    "graph_renderer.selection_policy = NodesAndLinkedEdges()\n",
    "graph_renderer.inspection_policy = EdgesAndLinkedNodes()\n",
    "\n",
    "plot.renderers.append(graph_renderer)"
   ]
  },
  {
   "cell_type": "code",
   "execution_count": null,
   "metadata": {},
   "outputs": [],
   "source": [
    "x, y = zip(*graph_renderer.layout_provider.graph_layout.values())\n",
    "node_labels = nx.get_node_attributes(G, \"module\")\n",
    "source = ColumnDataSource({\"x\": x, \"y\": y, \"module\": list(node_labels.values())})\n",
    "labels = LabelSet(\n",
    "    x=\"x\",\n",
    "    y=\"y\",\n",
    "    text=\"module\",\n",
    "    source=source,\n",
    "    background_fill_color=\"white\",\n",
    "    border_line_color=None,\n",
    "    text_baseline=\"middle\",\n",
    "    text_align=\"center\",\n",
    ")\n",
    "plot.renderers.append(labels)\n"
   ]
  },
  {
   "cell_type": "code",
   "execution_count": null,
   "metadata": {},
   "outputs": [],
   "source": [
    "node_labels"
   ]
  },
  {
   "cell_type": "code",
   "execution_count": null,
   "metadata": {},
   "outputs": [],
   "source": [
    "node_labels"
   ]
  },
  {
   "cell_type": "code",
   "execution_count": null,
   "metadata": {
    "scrolled": false
   },
   "outputs": [],
   "source": [
    "show(plot)"
   ]
  },
  {
   "cell_type": "code",
   "execution_count": null,
   "metadata": {},
   "outputs": [],
   "source": []
  },
  {
   "cell_type": "code",
   "execution_count": null,
   "metadata": {},
   "outputs": [],
   "source": []
  }
 ],
 "metadata": {
  "kernelspec": {
   "display_name": "Python 3",
   "language": "python",
   "name": "python3"
  },
  "language_info": {
   "codemirror_mode": {
    "name": "ipython",
    "version": 3
   },
   "file_extension": ".py",
   "mimetype": "text/x-python",
   "name": "python",
   "nbconvert_exporter": "python",
   "pygments_lexer": "ipython3",
   "version": "3.7.5"
  }
 },
 "nbformat": 4,
 "nbformat_minor": 2
}
